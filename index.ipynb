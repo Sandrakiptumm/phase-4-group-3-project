{
 "cells": [
  {
   "cell_type": "markdown",
   "metadata": {},
   "source": [
    "# Final Project Submission\n",
    "Please fill out:\n",
    "\n",
    "<li> Student name:Calvine Dasilver, Jack otieno , Sandra Kiptum, Salahudin Salat      and                Hellen Samuel\n",
    "<li> Student pace: full time\n",
    "<li> Scheduled project review date/time:\n",
    "<li> Instructor name: Nikita\n",
    "<li> Blog post URL:"
   ]
  },
  {
   "cell_type": "markdown",
   "metadata": {},
   "source": [
    "# Predicting Future Housing Markets with Zillow's Data\n",
    "\n",
    "### Business Understanding\n",
    "\n",
    "#### Overview/Background Information\n",
    "\n",
    "A real estate company is on a mission to find the hottest zip codes to invest in. They've got historical housing data from Zillow, like a time capsule, and they'll use it to predict future price trends. By analyzing this data, they want to pinpoint the top 5 zip codes with the most promising investment potential.\n",
    "\n",
    "#### Challenges\n",
    "\n",
    "1. Determining the \"optimal\" investment requires balancing the potential for profit (expected price appreciation), risk tolerance (price instability), and investment duration (holding period).\n",
    "2. Real estate prices are influenced by factors beyond past data, including economic conditions, local development projects, and interest rates.\n",
    "3. Time series models have limitations; they cannot ensure accurate predictions, and future market behavior is inherently uncertain.\n",
    "\n",
    "#### Proposed Solution: Metrics of Success\n",
    "\n",
    "To address these challenges, we propose the following approach:\n",
    "\n",
    "\n",
    "1. Apply time series forecasting to the provided historical Zillow data to predict future real estate prices across different zip codes.\n",
    "2. Analyze the forecasts by evaluating the profit potential, which is the expected price increase in each zip code; the risk, which involves the historical price volatility in each zip code; and the investment horizon, which refers to the planned duration of holding the investment.\n",
    "3. Prioritizing investment opportunities involves analyzing forecasted prices, profit potential, and risk to identify the top 5 most promising zip codes for real estate investment.\n",
    "\n",
    "\n",
    "#### Conclusion\n",
    "\n",
    "We'll predict future real estate prices and look at how much money can be made and how risky each area is. This will help us recommend the 5 best zip codes to invest in. How well we do depends on how good our predictions are and how carefully we consider everything.\n",
    "\n",
    "#### Objectives\n",
    "\n",
    "1. Build a model to predict future real estate prices for different zip codes.\n",
    "2. Review the predictions by looking at profit potential, risk, and how long to hold the investment.\n",
    "3. Suggest the top 5 zip codes for investment based on these factors.\n",
    "\n",
    "\n",
    "#### Problem Statement\n",
    "\n",
    "Create a data-based recommendation for the top 5 zip codes the real estate investment firm should focus on, considering future price trends, risk factors, and the firm's investment timeframe.\n"
   ]
  },
  {
   "cell_type": "code",
   "execution_count": null,
   "metadata": {},
   "outputs": [],
   "source": []
  }
 ],
 "metadata": {
  "language_info": {
   "name": "python"
  }
 },
 "nbformat": 4,
 "nbformat_minor": 2
}
